{
 "cells": [
  {
   "cell_type": "markdown",
   "id": "577b0b12",
   "metadata": {},
   "source": [
    "Data from the BCSS Challenge \n",
    "* https://bcsegmentation.grand-challenge.org/\n",
    "* https://github.com/PathologyDataScience/BCSS?tab=readme-ov-file\n",
    "* https://drive.google.com/drive/folders/1zqbdkQF8i5cEmZOGmbdQm-EP8dRYtvss"
   ]
  },
  {
   "cell_type": "code",
   "execution_count": 1,
   "id": "d5958f5f",
   "metadata": {},
   "outputs": [],
   "source": [
    "import tiatoolbox\n",
    "import matplotlib as mpl"
   ]
  },
  {
   "cell_type": "code",
   "execution_count": 2,
   "id": "06b2d849",
   "metadata": {},
   "outputs": [],
   "source": [
    "# Clear logger to use tiatoolbox.logger\n",
    "import logging\n",
    "import warnings\n",
    "if logging.getLogger().hasHandlers():\n",
    "    logging.getLogger().handlers.clear()"
   ]
  },
  {
   "cell_type": "code",
   "execution_count": 3,
   "id": "45221a78",
   "metadata": {},
   "outputs": [],
   "source": [
    "# Pretty print for nice dictionary printing\n",
    "from pprint import pprint\n",
    "import matplotlib.pyplot as plt\n",
    "import numpy as np\n",
    "from matplotlib import cm"
   ]
  },
  {
   "cell_type": "code",
   "execution_count": 4,
   "id": "1c2ace01",
   "metadata": {},
   "outputs": [],
   "source": [
    "# The path can also be read from a config file, etc.\n",
    "OPENSLIDE_PATH = r'C:\\Users\\sbbk034\\OneDrive - City, University of London\\Acad\\temp\\openslide-win64-20231011\\bin'\n",
    "\n",
    "import os\n",
    "if hasattr(os, 'add_dll_directory'):\n",
    "    # Windows\n",
    "    with os.add_dll_directory(OPENSLIDE_PATH):\n",
    "        import openslide\n",
    "else:\n",
    "    import openslide"
   ]
  },
  {
   "cell_type": "code",
   "execution_count": 5,
   "id": "5aefb6f7",
   "metadata": {},
   "outputs": [],
   "source": [
    "from tiatoolbox import logger"
   ]
  },
  {
   "cell_type": "code",
   "execution_count": 6,
   "id": "03580549",
   "metadata": {},
   "outputs": [],
   "source": [
    "#from tiatoolbox.data import small_svs "
   ]
  },
  {
   "cell_type": "code",
   "execution_count": 7,
   "id": "af85b81c",
   "metadata": {},
   "outputs": [],
   "source": [
    "#from tiatoolbox.wsicore.wsireader import WSIReader"
   ]
  },
  {
   "cell_type": "code",
   "execution_count": null,
   "id": "3f1caf63",
   "metadata": {},
   "outputs": [],
   "source": [
    "from tiatoolbox.models.architecture.unet import UNetModel\n"
   ]
  },
  {
   "cell_type": "code",
   "execution_count": null,
   "id": "260402d5",
   "metadata": {},
   "outputs": [],
   "source": [
    "from tiatoolbox.models.engine.semantic_segmentor import (\n",
    "    IOSegmentorConfig,\n",
    "    SemanticSegmentor,\n",
    ")\n",
    "from tiatoolbox.utils.misc import download_data, imread\n",
    "from tiatoolbox.utils.visualization import overlay_prediction_mask"
   ]
  },
  {
   "cell_type": "code",
   "execution_count": 1,
   "id": "ea6e31de",
   "metadata": {},
   "outputs": [
    {
     "ename": "NameError",
     "evalue": "name 'mpl' is not defined",
     "output_type": "error",
     "traceback": [
      "\u001b[1;31m---------------------------------------------------------------------------\u001b[0m",
      "\u001b[1;31mNameError\u001b[0m                                 Traceback (most recent call last)",
      "Cell \u001b[1;32mIn[1], line 1\u001b[0m\n\u001b[1;32m----> 1\u001b[0m mpl\u001b[38;5;241m.\u001b[39mrcParams[\u001b[38;5;124m\"\u001b[39m\u001b[38;5;124mfigure.dpi\u001b[39m\u001b[38;5;124m\"\u001b[39m] \u001b[38;5;241m=\u001b[39m \u001b[38;5;241m300\u001b[39m  \u001b[38;5;66;03m# for high resolution figure in notebook\u001b[39;00m\n\u001b[0;32m      2\u001b[0m mpl\u001b[38;5;241m.\u001b[39mrcParams[\u001b[38;5;124m\"\u001b[39m\u001b[38;5;124mfigure.facecolor\u001b[39m\u001b[38;5;124m\"\u001b[39m] \u001b[38;5;241m=\u001b[39m \u001b[38;5;124m\"\u001b[39m\u001b[38;5;124mwhite\u001b[39m\u001b[38;5;124m\"\u001b[39m  \u001b[38;5;66;03m# To make sure text is visible in dark mode\u001b[39;00m\n\u001b[0;32m      3\u001b[0m warnings\u001b[38;5;241m.\u001b[39mfilterwarnings(\u001b[38;5;124m\"\u001b[39m\u001b[38;5;124mignore\u001b[39m\u001b[38;5;124m\"\u001b[39m)\n",
      "\u001b[1;31mNameError\u001b[0m: name 'mpl' is not defined"
     ]
    }
   ],
   "source": [
    "mpl.rcParams[\"figure.dpi\"] = 300  # for high resolution figure in notebook\n",
    "mpl.rcParams[\"figure.facecolor\"] = \"white\"  # To make sure text is visible in dark mode\n",
    "warnings.filterwarnings(\"ignore\")\n",
    "plt.rcParams.update({\"font.size\": 5})"
   ]
  },
  {
   "cell_type": "code",
   "execution_count": 2,
   "id": "a809e657",
   "metadata": {},
   "outputs": [],
   "source": [
    "import torch"
   ]
  },
  {
   "cell_type": "code",
   "execution_count": null,
   "id": "5ca541c5",
   "metadata": {},
   "outputs": [],
   "source": []
  }
 ],
 "metadata": {
  "kernelspec": {
   "display_name": "Python 3 (ipykernel)",
   "language": "python",
   "name": "python3"
  },
  "language_info": {
   "codemirror_mode": {
    "name": "ipython",
    "version": 3
   },
   "file_extension": ".py",
   "mimetype": "text/x-python",
   "name": "python",
   "nbconvert_exporter": "python",
   "pygments_lexer": "ipython3",
   "version": "3.11.5"
  }
 },
 "nbformat": 4,
 "nbformat_minor": 5
}
